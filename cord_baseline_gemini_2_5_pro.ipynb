schema_dict = {
    "document_info": {
        "document_type": "tên chính xác của loại tài liệu (phiếu xuất kho, hóa đơn, biên bản...)",
        "document_group": "nhóm tài liệu (báo giá và đặt hàng, biên bản giao nhận, xuất/nhập kho...)",
        "document_number": "số chứng từ/phiếu/hóa đơn",
        "issue_date": "ngày phát hành tài liệu",
        "reference_number": "số tham chiếu khác trong tài liệu"
    },
    
    "company_info": {
        "name": "tên công ty phát hành tài liệu",
        "address": "địa chỉ công ty phát hành",
        "tax_code": "mã số thuế công ty phát hành",
        "contact": "thông tin liên hệ (điện thoại/email)",
        "representative": "người đại diện công ty",
        "position": "chức vụ người đại diện",
        "department": "phòng ban liên quan"
    },
    
    "customer_info": {
        "name": "tên khách hàng/bên nhận",
        "address": "địa chỉ khách hàng",
        "tax_code": "mã số thuế khách hàng",
        "contact": "thông tin liên hệ khách hàng",
        "representative": "người đại diện khách hàng",
        "position": "chức vụ người đại diện khách hàng"
    },
    
    "quote_details": {
        "quote_number": "số báo giá",
        "valid_until": "thời hạn báo giá",
        "payment_terms": "điều khoản thanh toán",
        "delivery_terms": "điều khoản giao hàng",
        "warranty_terms": "điều khoản bảo hành",
        "project_name": "tên dự án/công trình"
    },
    
    "delivery_details": {
        "delivery_address": "địa điểm giao hàng",
        "delivery_time": "thời gian giao hàng",
        "vehicle_info": "thông tin phương tiện vận chuyển (biển số xe)",
        "driver_name": "tên người vận chuyển/lái xe",
        "receiver_position": "chức vụ người nhận",
        "delivery_status": "trạng thái giao hàng",
        "inspection_result": "kết quả kiểm tra"
    },
    
    "warehouse_details": {
        "warehouse_name": "tên kho",
        "warehouse_keeper": "thủ kho",
        "reason": "lý do xuất/nhập kho",
        "destination": "nơi nhận hàng",
        "source": "nguồn hàng",
        "stock_balance": "tồn kho sau xuất/nhập"
    },
    
    "payment_details": {
        "payment_method": "phương thức thanh toán",
        "account_number": "số tài khoản",
        "bank_name": "tên ngân hàng",
        "paid_amount": "số tiền đã thanh toán",
        "remaining_balance": "số tiền còn lại",
        "due_date": "hạn thanh toán",
        "reference_document": "chứng từ liên quan"
    },
    
    "concrete_details": {
        "concrete_grade": "mác bê tông",
        "concrete_type": "loại bê tông",
        "construction_site": "công trình/địa điểm đổ",
        "pump_details": "thông tin bơm",
        "vehicle_weight": "trọng lượng xe",
        "mixing_ratio": "tỷ lệ trộn",
        "slump_test": "kết quả thử độ sụt",
        "volume_ordered": "khối lượng đặt hàng",
        "volume_delivered": "khối lượng thực tế giao",
        "temperature": "nhiệt độ bê tông"
    },
    
    "tables": {
        "table_info": {
            "title": "tiêu đề bảng",
            "type": "loại bảng (items, materials, services, summary)",
            "columns": "tên các cột trong bảng"
        }
    },
    
    "items": {
        "stt": "số thứ tự",
        "item_type": "loại (vật tư/dịch vụ/hàng hóa)",
        "product_code": "mã sản phẩm/vật tư/dịch vụ",
        "product_name": "tên sản phẩm/vật tư/dịch vụ",
        "specification": "quy cách/mô tả chi tiết",
        "unit": "đơn vị tính",
        "quantity": "số lượng",
        "unit_price": "đơn giá",
        "total_price": "thành tiền",
        "mass": "khối lượng (nếu khác với số lượng)",
        "volume": "thể tích (nếu áp dụng)",
        "dimension": "kích thước (nếu áp dụng)",
        "origin": "xuất xứ/nguồn gốc",
        "remarks": "ghi chú",
        "sub_items": {
            "component_name": "tên thành phần phụ",
            "component_spec": "thông số kỹ thuật thành phần phụ",
            "component_quantity": "số lượng thành phần phụ",
            "component_unit": "đơn vị thành phần phụ",
            "component_price": "đơn giá thành phần phụ",
            "component_total": "thành tiền thành phần phụ"
        }
    },
    
    "sub_total": {
        "subtotal": "tổng tiền hàng chưa thuế",
        "discount_rate": "tỷ lệ chiết khấu (%)",
        "discount_amount": "số tiền chiết khấu",
        "service_price": "phí dịch vụ",
        "other_fees": "phí khác",
        "total_weight": "tổng khối lượng",
        "total_volume": "tổng thể tích"
    },
    
    "tax": {
        "vat_rate": "tỷ lệ thuế VAT (%)",
        "vat_amount": "tiền thuế VAT",
        "withholding_tax": "thuế khấu trừ tại nguồn (nếu có)",
        "other_tax": "các loại thuế khác"
    },
    
    "total": {
        "grand_total": "tổng cộng tiền thanh toán",
        "total_in_words": "số tiền bằng chữ",
        "currency": "đơn vị tiền tệ",
        "cash_amount": "số tiền thanh toán bằng tiền mặt",
        "transfer_amount": "số tiền thanh toán bằng chuyển khoản",
        "credit_amount": "số tiền thanh toán bằng tín dụng",
        "deposit_amount": "số tiền đặt cọc",
        "remaining_amount": "số tiền còn lại phải thanh toán"
    },
    
    "approval": {
        "created_by": "người lập phiếu",
        "approved_by": "người phê duyệt",
        "received_by": "người nhận",
        "reviewed_by": "người kiểm tra",
        "created_at": "thời gian lập phiếu",
        "confirmed_at": "thời gian xác nhận",
        "approval_status": "trạng thái phê duyệt",
        "notes": "ghi chú bổ sung",
        "terms_and_conditions": "điều khoản và điều kiện"
    },
    
    "additional_info": {
        "project_code": "mã dự án",
        "contract_number": "số hợp đồng",
        "order_number": "số đơn hàng liên quan",
        "delivery_note": "ghi chú giao hàng",
        "special_instructions": "hướng dẫn đặc biệt",
        "other_references": "tham chiếu khác"
    }
}
